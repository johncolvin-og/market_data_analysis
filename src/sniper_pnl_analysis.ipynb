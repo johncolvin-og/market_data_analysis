{
 "cells": [
  {
   "cell_type": "code",
   "execution_count": 1,
   "metadata": {},
   "outputs": [],
   "source": [
    "import pandas as pd\n",
    "import sqlite3\n",
    "import matplotlib.pyplot as plt\n",
    "import sqlite3\n",
    "import SniperUtils as SU"
   ]
  },
  {
   "cell_type": "code",
   "execution_count": 2,
   "metadata": {},
   "outputs": [],
   "source": [
    "def filter_opp(opps, min_qty, min_ticks, product = ''):\n",
    "    filt_opps = opps.copy()\n",
    "    if product != '':\n",
    "        filt_opps = filt_opps[filt_opps['poly'].str.contains(product)]\n",
    "    # remove possibly shared implied markets\n",
    "    filt_opps = filt_opps[(filt_opps.is_direct==1) | (filt_opps.entry_qty >= 3)]\n",
    "    # applies the argument qty and edge\n",
    "    filt_opps = filt_opps[(filt_opps.entry_qty >= min_qty) & (filt_opps.entry_ticks >= min_ticks)]\n",
    "    filt_opps = filt_opps.rename_axis(None)\n",
    "    return filt_opps"
   ]
  },
  {
   "cell_type": "code",
   "execution_count": 3,
   "metadata": {},
   "outputs": [],
   "source": [
    "def max_edge (opp_rows_arg):\n",
    "    opp_rows = opp_rows_arg\n",
    "    pos_lsn_win_opp_rows = opp_rows_arg[opp_rows.lsn_win > 0]\n",
    "    # within a group there can be both -ve and positive lsn_wins\n",
    "    if pos_lsn_win_opp_rows.shape[0] > 0:\n",
    "        opp_rows = pos_lsn_win_opp_rows\n",
    "    m_idx = opp_rows['tot_ticks'].argmax()\n",
    "    r = opp_rows.iloc[m_idx]\n",
    "    return r\n",
    "def least_penalty(opp_rows):\n",
    "    m_idx = abs(opp_rows['tot_ticks']).argmin()\n",
    "    r = opp_rows.iloc[m_idx]\n",
    "    return r"
   ]
  },
  {
   "cell_type": "code",
   "execution_count": 4,
   "metadata": {},
   "outputs": [],
   "source": [
    "def get_opps(file, min_qty, min_edge, product):\n",
    "    res = SU.get_sniper_opps(file)\n",
    "    res = filter_opp(res, min_qty, min_edge, product)\n",
    "    res = res.groupby('opp_key').apply(lambda x: max_edge(x))\n",
    "    return res"
   ]
  },
  {
   "cell_type": "code",
   "execution_count": 159,
   "metadata": {},
   "outputs": [
    {
     "data": {
      "text/plain": "(14349, 49)"
     },
     "execution_count": 159,
     "metadata": {},
     "output_type": "execute_result"
    }
   ],
   "source": [
    "res = get_opps('/home/taha/spartan_store/sniper_opps/0801-0805/sim_livestocks.csv',1,0,'HE')\n",
    "res.shape"
   ]
  },
  {
   "cell_type": "code",
   "execution_count": 137,
   "metadata": {},
   "outputs": [
    {
     "data": {
      "text/plain": "Index(['market_date', 'run_id', 'opp_id', 'eid', 'ht_time', 't_time', 'side',\n       'poly', 'has_futures', 'min_days', 'max_days', 'min_fut_vol',\n       'entry_ticks', 'entry_pnl', 'entry_qty', 'is_direct', 'fsn_win',\n       'lsn_win', 'fsn_win_dir', 'lsn_win_dir', 'cp1_win', 'cp1_pbook',\n       'cp1_pbook_dir', 'cp2_win', 'cp2_pbook', 'cp2_pbook_dir',\n       'penalty_poly', 'penalty_legs', 'entry_ev', 'entry_pbook',\n       'entry_pbook_dir', 'entry_leg_books', 'exit_event', 'exit_pbook',\n       'exit_pbook_dir', 'exit_leg_books', 'observed_edge_period',\n       'first_edge_cognizant_event_ls', 'edge_cognizant_win_ls',\n       'n_edge_cognizant_events_ls', 'first_edge_cognizant_event_fs',\n       'edge_cognizant_win_fs', 'n_edge_cognizant_events_fs',\n       'same_security_opp', 'same_security_opp_pbook',\n       'same_security_opp_pbook_zero', 'entry_pbook_zero', 'opp_key',\n       'tot_ticks'],\n      dtype='object', name=200)"
     },
     "execution_count": 137,
     "metadata": {},
     "output_type": "execute_result"
    }
   ],
   "source": [
    "res.columns"
   ]
  },
  {
   "cell_type": "code",
   "execution_count": 146,
   "metadata": {},
   "outputs": [
    {
     "data": {
      "text/plain": "opp_key\n2021-08-01_10    +(HGU1-HGV1) +(HGV1-HGX1) -(HGU1-HGZ1) +(HGX1-...\n2021-08-01_11    +(HGU1-HGV1) +(HGV1-HGX1) -(HGU1-HGZ1) +(HGX1-...\n2021-08-01_13    +(HGU1-HGV1) +(HGV1-HGX1) -(HGU1-HGZ1) +(HGX1-...\n2021-08-01_14               +(HGU1-HGH2) -(HGU1-HGK2) +(HGH2-HGK2)\n2021-08-01_19               +(HGU1-HGZ1) -(HGU1-HGH2) +(HGZ1-HGH2)\n2021-08-01_20               +(HGU1-HGV1) -(HGU1-HGZ1) +(HGV1-HGZ1)\n2021-08-01_21    +(HGU1-HGV1) -(HGU1-HGX1) +(HGV1-HGZ1) -(HGX1-...\n2021-08-01_22    +(HGU1-HGV1) +(HGV1-HGX1) -(HGU1-HGZ1) +(HGX1-...\n2021-08-01_23               +(HGV1-HGX1) -(HGV1-HGZ1) +(HGX1-HGZ1)\n2021-08-01_25               +(HGV1-HGX1) -(HGV1-HGZ1) +(HGX1-HGZ1)\nName: poly, dtype: object"
     },
     "execution_count": 146,
     "metadata": {},
     "output_type": "execute_result"
    }
   ],
   "source": [
    "res['poly'].head(10)"
   ]
  },
  {
   "cell_type": "code",
   "execution_count": 176,
   "metadata": {},
   "outputs": [
    {
     "name": "stdout",
     "output_type": "stream",
     "text": [
      "(46, 49)\n",
      "(45, 49)\n",
      "(1, 49)\n"
     ]
    }
   ],
   "source": [
    "res_2ticks = res[res['entry_ticks']>=10]\n",
    "print(res_2ticks.shape)\n",
    "same_sec = res_2ticks[res_2ticks['same_security_opp'] == 1]\n",
    "print(same_sec.shape)\n",
    "non_same_sec = res_2ticks[res_2ticks['same_security_opp'] != 1]\n",
    "print(non_same_sec.shape)"
   ]
  },
  {
   "cell_type": "code",
   "execution_count": 174,
   "metadata": {},
   "outputs": [
    {
     "data": {
      "text/html": "<div>\n<style scoped>\n    .dataframe tbody tr th:only-of-type {\n        vertical-align: middle;\n    }\n\n    .dataframe tbody tr th {\n        vertical-align: top;\n    }\n\n    .dataframe thead th {\n        text-align: right;\n    }\n</style>\n<table border=\"1\" class=\"dataframe\">\n  <thead>\n    <tr style=\"text-align: right;\">\n      <th></th>\n      <th>lsn_win</th>\n      <th>entry_qty</th>\n      <th>entry_ticks</th>\n      <th>min_days</th>\n      <th>max_days</th>\n      <th>penalty_poly</th>\n      <th>penalty_legs</th>\n      <th>entry_pbook_zero</th>\n      <th>same_security_opp_pbook_zero</th>\n    </tr>\n  </thead>\n  <tbody>\n    <tr>\n      <th>count</th>\n      <td>1.000000e+00</td>\n      <td>1.0</td>\n      <td>1.0</td>\n      <td>1.0</td>\n      <td>1.0</td>\n      <td>1.0</td>\n      <td>1.0</td>\n      <td>1.0</td>\n      <td>1.0</td>\n    </tr>\n    <tr>\n      <th>mean</th>\n      <td>1.190960e+11</td>\n      <td>1.0</td>\n      <td>24.0</td>\n      <td>8.0</td>\n      <td>313.0</td>\n      <td>25.0</td>\n      <td>-1450.0</td>\n      <td>3.0</td>\n      <td>4.0</td>\n    </tr>\n    <tr>\n      <th>std</th>\n      <td>NaN</td>\n      <td>NaN</td>\n      <td>NaN</td>\n      <td>NaN</td>\n      <td>NaN</td>\n      <td>NaN</td>\n      <td>NaN</td>\n      <td>NaN</td>\n      <td>NaN</td>\n    </tr>\n    <tr>\n      <th>min</th>\n      <td>1.190960e+11</td>\n      <td>1.0</td>\n      <td>24.0</td>\n      <td>8.0</td>\n      <td>313.0</td>\n      <td>25.0</td>\n      <td>-1450.0</td>\n      <td>3.0</td>\n      <td>4.0</td>\n    </tr>\n    <tr>\n      <th>25%</th>\n      <td>1.190960e+11</td>\n      <td>1.0</td>\n      <td>24.0</td>\n      <td>8.0</td>\n      <td>313.0</td>\n      <td>25.0</td>\n      <td>-1450.0</td>\n      <td>3.0</td>\n      <td>4.0</td>\n    </tr>\n    <tr>\n      <th>50%</th>\n      <td>1.190960e+11</td>\n      <td>1.0</td>\n      <td>24.0</td>\n      <td>8.0</td>\n      <td>313.0</td>\n      <td>25.0</td>\n      <td>-1450.0</td>\n      <td>3.0</td>\n      <td>4.0</td>\n    </tr>\n    <tr>\n      <th>75%</th>\n      <td>1.190960e+11</td>\n      <td>1.0</td>\n      <td>24.0</td>\n      <td>8.0</td>\n      <td>313.0</td>\n      <td>25.0</td>\n      <td>-1450.0</td>\n      <td>3.0</td>\n      <td>4.0</td>\n    </tr>\n    <tr>\n      <th>max</th>\n      <td>1.190960e+11</td>\n      <td>1.0</td>\n      <td>24.0</td>\n      <td>8.0</td>\n      <td>313.0</td>\n      <td>25.0</td>\n      <td>-1450.0</td>\n      <td>3.0</td>\n      <td>4.0</td>\n    </tr>\n  </tbody>\n</table>\n</div>",
      "text/plain": "            lsn_win  entry_qty  entry_ticks  min_days  max_days  penalty_poly  \\\ncount  1.000000e+00        1.0          1.0       1.0       1.0           1.0   \nmean   1.190960e+11        1.0         24.0       8.0     313.0          25.0   \nstd             NaN        NaN          NaN       NaN       NaN           NaN   \nmin    1.190960e+11        1.0         24.0       8.0     313.0          25.0   \n25%    1.190960e+11        1.0         24.0       8.0     313.0          25.0   \n50%    1.190960e+11        1.0         24.0       8.0     313.0          25.0   \n75%    1.190960e+11        1.0         24.0       8.0     313.0          25.0   \nmax    1.190960e+11        1.0         24.0       8.0     313.0          25.0   \n\n       penalty_legs  entry_pbook_zero  same_security_opp_pbook_zero  \ncount           1.0               1.0                           1.0  \nmean        -1450.0               3.0                           4.0  \nstd             NaN               NaN                           NaN  \nmin         -1450.0               3.0                           4.0  \n25%         -1450.0               3.0                           4.0  \n50%         -1450.0               3.0                           4.0  \n75%         -1450.0               3.0                           4.0  \nmax         -1450.0               3.0                           4.0  "
     },
     "execution_count": 174,
     "metadata": {},
     "output_type": "execute_result"
    }
   ],
   "source": [
    "non_same_sec[['lsn_win','entry_qty','entry_ticks','min_days','max_days','penalty_poly','penalty_legs','entry_pbook_zero','same_security_opp_pbook_zero']].describe()"
   ]
  },
  {
   "cell_type": "code",
   "execution_count": 175,
   "metadata": {},
   "outputs": [
    {
     "data": {
      "text/html": "<div>\n<style scoped>\n    .dataframe tbody tr th:only-of-type {\n        vertical-align: middle;\n    }\n\n    .dataframe tbody tr th {\n        vertical-align: top;\n    }\n\n    .dataframe thead th {\n        text-align: right;\n    }\n</style>\n<table border=\"1\" class=\"dataframe\">\n  <thead>\n    <tr style=\"text-align: right;\">\n      <th></th>\n      <th>lsn_win</th>\n      <th>entry_qty</th>\n      <th>entry_ticks</th>\n      <th>min_days</th>\n      <th>max_days</th>\n      <th>penalty_poly</th>\n      <th>penalty_legs</th>\n      <th>entry_pbook_zero</th>\n      <th>same_security_opp_pbook_zero</th>\n    </tr>\n  </thead>\n  <tbody>\n    <tr>\n      <th>count</th>\n      <td>4.500000e+01</td>\n      <td>45.000000</td>\n      <td>45.000000</td>\n      <td>45.000000</td>\n      <td>45.000000</td>\n      <td>45.000000</td>\n      <td>45.000000</td>\n      <td>45.000000</td>\n      <td>45.000000</td>\n    </tr>\n    <tr>\n      <th>mean</th>\n      <td>2.187314e+10</td>\n      <td>1.088889</td>\n      <td>39.244444</td>\n      <td>12.177778</td>\n      <td>245.733333</td>\n      <td>221.111111</td>\n      <td>-374.444444</td>\n      <td>7.044444</td>\n      <td>8.444444</td>\n    </tr>\n    <tr>\n      <th>std</th>\n      <td>7.863225e+10</td>\n      <td>0.468179</td>\n      <td>22.983349</td>\n      <td>27.721250</td>\n      <td>66.679150</td>\n      <td>106.594436</td>\n      <td>1454.338034</td>\n      <td>2.315516</td>\n      <td>2.291839</td>\n    </tr>\n    <tr>\n      <th>min</th>\n      <td>-5.225775e+06</td>\n      <td>1.000000</td>\n      <td>10.000000</td>\n      <td>8.000000</td>\n      <td>132.000000</td>\n      <td>75.000000</td>\n      <td>-9900.000000</td>\n      <td>3.000000</td>\n      <td>5.000000</td>\n    </tr>\n    <tr>\n      <th>25%</th>\n      <td>-2.628780e+05</td>\n      <td>1.000000</td>\n      <td>16.000000</td>\n      <td>8.000000</td>\n      <td>193.000000</td>\n      <td>150.000000</td>\n      <td>-225.000000</td>\n      <td>5.000000</td>\n      <td>6.000000</td>\n    </tr>\n    <tr>\n      <th>50%</th>\n      <td>4.178000e+04</td>\n      <td>1.000000</td>\n      <td>46.000000</td>\n      <td>8.000000</td>\n      <td>193.000000</td>\n      <td>175.000000</td>\n      <td>-125.000000</td>\n      <td>7.000000</td>\n      <td>8.000000</td>\n    </tr>\n    <tr>\n      <th>75%</th>\n      <td>1.727842e+07</td>\n      <td>1.000000</td>\n      <td>61.000000</td>\n      <td>8.000000</td>\n      <td>313.000000</td>\n      <td>250.000000</td>\n      <td>-100.000000</td>\n      <td>9.000000</td>\n      <td>10.000000</td>\n    </tr>\n    <tr>\n      <th>max</th>\n      <td>3.163746e+11</td>\n      <td>4.000000</td>\n      <td>81.000000</td>\n      <td>194.000000</td>\n      <td>373.000000</td>\n      <td>575.000000</td>\n      <td>-50.000000</td>\n      <td>13.000000</td>\n      <td>16.000000</td>\n    </tr>\n  </tbody>\n</table>\n</div>",
      "text/plain": "            lsn_win  entry_qty  entry_ticks    min_days    max_days  \\\ncount  4.500000e+01  45.000000    45.000000   45.000000   45.000000   \nmean   2.187314e+10   1.088889    39.244444   12.177778  245.733333   \nstd    7.863225e+10   0.468179    22.983349   27.721250   66.679150   \nmin   -5.225775e+06   1.000000    10.000000    8.000000  132.000000   \n25%   -2.628780e+05   1.000000    16.000000    8.000000  193.000000   \n50%    4.178000e+04   1.000000    46.000000    8.000000  193.000000   \n75%    1.727842e+07   1.000000    61.000000    8.000000  313.000000   \nmax    3.163746e+11   4.000000    81.000000  194.000000  373.000000   \n\n       penalty_poly  penalty_legs  entry_pbook_zero  \\\ncount     45.000000     45.000000         45.000000   \nmean     221.111111   -374.444444          7.044444   \nstd      106.594436   1454.338034          2.315516   \nmin       75.000000  -9900.000000          3.000000   \n25%      150.000000   -225.000000          5.000000   \n50%      175.000000   -125.000000          7.000000   \n75%      250.000000   -100.000000          9.000000   \nmax      575.000000    -50.000000         13.000000   \n\n       same_security_opp_pbook_zero  \ncount                     45.000000  \nmean                       8.444444  \nstd                        2.291839  \nmin                        5.000000  \n25%                        6.000000  \n50%                        8.000000  \n75%                       10.000000  \nmax                       16.000000  "
     },
     "execution_count": 175,
     "metadata": {},
     "output_type": "execute_result"
    }
   ],
   "source": [
    "same_sec[['lsn_win','entry_qty','entry_ticks','min_days','max_days','penalty_poly','penalty_legs','entry_pbook_zero','same_security_opp_pbook_zero']].describe()"
   ]
  },
  {
   "cell_type": "code",
   "execution_count": 158,
   "metadata": {},
   "outputs": [
    {
     "data": {
      "text/html": "<div>\n<style scoped>\n    .dataframe tbody tr th:only-of-type {\n        vertical-align: middle;\n    }\n\n    .dataframe tbody tr th {\n        vertical-align: top;\n    }\n\n    .dataframe thead th {\n        text-align: right;\n    }\n</style>\n<table border=\"1\" class=\"dataframe\">\n  <thead>\n    <tr style=\"text-align: right;\">\n      <th></th>\n      <th>ht_time</th>\n      <th>side</th>\n      <th>poly</th>\n      <th>entry_ticks</th>\n      <th>same_security_opp_pbook</th>\n      <th>same_security_opp_pbook_zero</th>\n      <th>lsn_win</th>\n    </tr>\n    <tr>\n      <th>opp_key</th>\n      <th></th>\n      <th></th>\n      <th></th>\n      <th></th>\n      <th></th>\n      <th></th>\n      <th></th>\n    </tr>\n  </thead>\n  <tbody>\n    <tr>\n      <th>2021-08-01_10</th>\n      <td>12:51:44.599999169</td>\n      <td>Sell</td>\n      <td>+(HGU1-HGV1) +(HGV1-HGX1) -(HGU1-HGZ1) +(HGX1-...</td>\n      <td>2.0</td>\n      <td>Buy: 10 (2), 5 (1), 0 (1), -5 (1), -470 (1) &lt;-...</td>\n      <td>5.0</td>\n      <td>26737.0</td>\n    </tr>\n    <tr>\n      <th>2021-08-01_20</th>\n      <td>15:11:52.778107789</td>\n      <td>Sell</td>\n      <td>+(HGU1-HGV1) -(HGU1-HGZ1) +(HGV1-HGZ1)</td>\n      <td>2.0</td>\n      <td>Buy: 10 (2), 5 (3), -10 (1), -20 (2), -25 (1) ...</td>\n      <td>5.0</td>\n      <td>95059.0</td>\n    </tr>\n    <tr>\n      <th>2021-08-01_22</th>\n      <td>15:14:16.636015307</td>\n      <td>Sell</td>\n      <td>+(HGU1-HGV1) +(HGV1-HGX1) -(HGU1-HGZ1) +(HGX1-...</td>\n      <td>3.0</td>\n      <td>Buy: 15 (1), 10 (1), 0 (2), -5 (1), -10 (2) &lt;-...</td>\n      <td>5.0</td>\n      <td>5782614.0</td>\n    </tr>\n    <tr>\n      <th>2021-08-01_23</th>\n      <td>15:14:16.636723819</td>\n      <td>Sell</td>\n      <td>+(HGV1-HGX1) -(HGV1-HGZ1) +(HGX1-HGZ1)</td>\n      <td>2.0</td>\n      <td>Buy: 10 (1), 0 (1), -5 (2), -15 (3), -20 (3) &lt;...</td>\n      <td>4.0</td>\n      <td>42363.0</td>\n    </tr>\n    <tr>\n      <th>2021-08-01_25</th>\n      <td>15:14:16.638143249</td>\n      <td>Sell</td>\n      <td>+(HGV1-HGX1) -(HGV1-HGZ1) +(HGX1-HGZ1)</td>\n      <td>2.0</td>\n      <td>Buy: 10 (1), 0 (1), -5 (2), -15 (3), -20 (3) &lt;...</td>\n      <td>4.0</td>\n      <td>536366.0</td>\n    </tr>\n    <tr>\n      <th>2021-08-01_40</th>\n      <td>15:17:30.933114395</td>\n      <td>Sell</td>\n      <td>+(HGU1-HGV1) +(HGV1-HGX1) -(HGU1-HGZ1) +(HGX1-...</td>\n      <td>2.0</td>\n      <td>Buy: 10 (2), 5 (2), -5 (1), -15 (5), -20 (1) &lt;...</td>\n      <td>4.0</td>\n      <td>121972.0</td>\n    </tr>\n    <tr>\n      <th>2021-08-01_49</th>\n      <td>15:29:13.111844593</td>\n      <td>Sell</td>\n      <td>+(HGU1-HGV1) +(HGV1-HGX1) -(HGU1-HGZ1) +(HGX1-...</td>\n      <td>2.0</td>\n      <td>Buy: 10 (1), 5 (1), 0 (6), -5 (2), -20 (1) &lt;--...</td>\n      <td>10.0</td>\n      <td>1287391.0</td>\n    </tr>\n    <tr>\n      <th>2021-08-01_50</th>\n      <td>15:31:31.168844257</td>\n      <td>Sell</td>\n      <td>+(HGU1-HGV1) +(HGV1-HGX1) -(HGU1-HGZ1) +(HGX1-...</td>\n      <td>2.0</td>\n      <td>Buy: 10 (1), 5 (1), 0 (6), -5 (4), -115 (1) &lt;-...</td>\n      <td>12.0</td>\n      <td>3755676.0</td>\n    </tr>\n    <tr>\n      <th>2021-08-02_52</th>\n      <td>16:29:57.890770291</td>\n      <td>Buy</td>\n      <td>+(HGU1-HGH2) -(HGU1-HGK2) +(HGH2-HGK2)</td>\n      <td>3.0</td>\n      <td>Buy: -35 (3), -40 (1), -45 (4), -50 (3), -55 (...</td>\n      <td>22.0</td>\n      <td>-364039.0</td>\n    </tr>\n    <tr>\n      <th>2021-08-02_54</th>\n      <td>16:50:39.580020029</td>\n      <td>Buy</td>\n      <td>+(HGX1-HGZ1) -(HGX1-HGF2) +(HGZ1-HGF2)</td>\n      <td>2.0</td>\n      <td>Buy: -440 (2), -460 (4), -465 (1), -470 (3), -...</td>\n      <td>10.0</td>\n      <td>49590.0</td>\n    </tr>\n    <tr>\n      <th>2021-08-04_4</th>\n      <td>08:44:01.539792901</td>\n      <td>Buy</td>\n      <td>+(HGU1-HGH2) -(HGU1-HGK2) +(HGH2-HGK2)</td>\n      <td>13.0</td>\n      <td>Buy: -90 (1), -95 (2), -100 (2), -105 (3), -11...</td>\n      <td>27.0</td>\n      <td>1165482.0</td>\n    </tr>\n    <tr>\n      <th>2021-08-04_7</th>\n      <td>08:44:06.657358091</td>\n      <td>Buy</td>\n      <td>+(HGU1-HGH2) -(HGU1-HGK2) +(HGH2-HGK2)</td>\n      <td>2.0</td>\n      <td>Buy: -40 (6), -50 (1), -55 (2), -60 (2), -65 (...</td>\n      <td>26.0</td>\n      <td>31804.0</td>\n    </tr>\n    <tr>\n      <th>2021-08-05_102</th>\n      <td>16:55:00.020124281</td>\n      <td>Buy</td>\n      <td>+(HGU1-HGV1) +(HGV1-HGX1) -(HGU1-HGZ1) +(HGX1-...</td>\n      <td>4.0</td>\n      <td>Buy: -45 (1), -50 (1), -55 (2), -60 (14), -65 ...</td>\n      <td>25.0</td>\n      <td>93081.0</td>\n    </tr>\n    <tr>\n      <th>2021-08-05_105</th>\n      <td>16:55:00.021156017</td>\n      <td>Buy</td>\n      <td>+(HGU1-HGX1) -(HGU1-HGZ1) +(HGX1-HGZ1)</td>\n      <td>2.0</td>\n      <td>Buy: -30 (1), -35 (17), -40 (9), -45 (89), -50...</td>\n      <td>61.0</td>\n      <td>94991.0</td>\n    </tr>\n    <tr>\n      <th>2021-08-05_106</th>\n      <td>16:55:00.021531181</td>\n      <td>Buy</td>\n      <td>+(HGV1-HGX1) -(HGV1-HGZ1) +(HGX1-HGZ1)</td>\n      <td>2.0</td>\n      <td>Buy: -35 (1), -40 (1), -50 (2), -55 (2), -60 (...</td>\n      <td>23.0</td>\n      <td>-1402506.0</td>\n    </tr>\n    <tr>\n      <th>2021-08-05_107</th>\n      <td>16:55:00.021603143</td>\n      <td>Sell</td>\n      <td>+(HGZ1-HGF2) +(HGF2-HGG2) -(HGZ1-HGH2) +(HGG2-...</td>\n      <td>2.0</td>\n      <td>Buy: 10 (2), -5 (2) &lt;--&gt; Sell:</td>\n      <td>2.0</td>\n      <td>63249.0</td>\n    </tr>\n    <tr>\n      <th>2021-08-05_108</th>\n      <td>16:55:10.452322283</td>\n      <td>Sell</td>\n      <td>+(HGU1-HGV1) -(HGU1-HGZ1) +(HGV1-HGZ1)</td>\n      <td>2.0</td>\n      <td>Buy: 10 (2), 5 (1), -5 (1), -15 (1), -20 (2) &lt;...</td>\n      <td>3.0</td>\n      <td>31692.0</td>\n    </tr>\n    <tr>\n      <th>2021-08-05_109</th>\n      <td>16:55:10.452575913</td>\n      <td>Sell</td>\n      <td>+(HGU1-HGV1) -(HGU1-HGZ1) +(HGV1-HGZ1)</td>\n      <td>2.0</td>\n      <td>Buy: 10 (2), 5 (1), -5 (1), -15 (1), -20 (2) &lt;...</td>\n      <td>3.0</td>\n      <td>-219405.0</td>\n    </tr>\n    <tr>\n      <th>2021-08-05_14</th>\n      <td>11:49:39.687435327</td>\n      <td>Buy</td>\n      <td>+(HGU1-HGV1) +(HGV1-HGZ1) -(HGU1-HGH2) +(HGZ1-...</td>\n      <td>2.0</td>\n      <td>Buy: -55 (2), -75 (1), -80 (1), -90 (1), -95 (...</td>\n      <td>3.0</td>\n      <td>-1205545.0</td>\n    </tr>\n    <tr>\n      <th>2021-08-05_32</th>\n      <td>12:40:06.685871927</td>\n      <td>Buy</td>\n      <td>+(HGU1-HGZ1) -(HGU1-HGH2) +(HGZ1-HGH2)</td>\n      <td>3.0</td>\n      <td>Buy:  &lt;--&gt; Sell:</td>\n      <td>0.0</td>\n      <td>-180531.0</td>\n    </tr>\n    <tr>\n      <th>2021-08-05_99</th>\n      <td>16:28:14.371346951</td>\n      <td>Sell</td>\n      <td>+(HGU1-HGH2) -(HGU1-HGN2) +(HGH2-HGK2) +(HGK2-...</td>\n      <td>4.0</td>\n      <td>Buy: 20 (1), 5 (1), 0 (1), -10 (2), -25 (1) &lt;-...</td>\n      <td>5.0</td>\n      <td>38483.0</td>\n    </tr>\n  </tbody>\n</table>\n</div>",
      "text/plain": "                           ht_time  side  \\\nopp_key                                    \n2021-08-01_10   12:51:44.599999169  Sell   \n2021-08-01_20   15:11:52.778107789  Sell   \n2021-08-01_22   15:14:16.636015307  Sell   \n2021-08-01_23   15:14:16.636723819  Sell   \n2021-08-01_25   15:14:16.638143249  Sell   \n2021-08-01_40   15:17:30.933114395  Sell   \n2021-08-01_49   15:29:13.111844593  Sell   \n2021-08-01_50   15:31:31.168844257  Sell   \n2021-08-02_52   16:29:57.890770291   Buy   \n2021-08-02_54   16:50:39.580020029   Buy   \n2021-08-04_4    08:44:01.539792901   Buy   \n2021-08-04_7    08:44:06.657358091   Buy   \n2021-08-05_102  16:55:00.020124281   Buy   \n2021-08-05_105  16:55:00.021156017   Buy   \n2021-08-05_106  16:55:00.021531181   Buy   \n2021-08-05_107  16:55:00.021603143  Sell   \n2021-08-05_108  16:55:10.452322283  Sell   \n2021-08-05_109  16:55:10.452575913  Sell   \n2021-08-05_14   11:49:39.687435327   Buy   \n2021-08-05_32   12:40:06.685871927   Buy   \n2021-08-05_99   16:28:14.371346951  Sell   \n\n                                                             poly  \\\nopp_key                                                             \n2021-08-01_10   +(HGU1-HGV1) +(HGV1-HGX1) -(HGU1-HGZ1) +(HGX1-...   \n2021-08-01_20              +(HGU1-HGV1) -(HGU1-HGZ1) +(HGV1-HGZ1)   \n2021-08-01_22   +(HGU1-HGV1) +(HGV1-HGX1) -(HGU1-HGZ1) +(HGX1-...   \n2021-08-01_23              +(HGV1-HGX1) -(HGV1-HGZ1) +(HGX1-HGZ1)   \n2021-08-01_25              +(HGV1-HGX1) -(HGV1-HGZ1) +(HGX1-HGZ1)   \n2021-08-01_40   +(HGU1-HGV1) +(HGV1-HGX1) -(HGU1-HGZ1) +(HGX1-...   \n2021-08-01_49   +(HGU1-HGV1) +(HGV1-HGX1) -(HGU1-HGZ1) +(HGX1-...   \n2021-08-01_50   +(HGU1-HGV1) +(HGV1-HGX1) -(HGU1-HGZ1) +(HGX1-...   \n2021-08-02_52              +(HGU1-HGH2) -(HGU1-HGK2) +(HGH2-HGK2)   \n2021-08-02_54              +(HGX1-HGZ1) -(HGX1-HGF2) +(HGZ1-HGF2)   \n2021-08-04_4               +(HGU1-HGH2) -(HGU1-HGK2) +(HGH2-HGK2)   \n2021-08-04_7               +(HGU1-HGH2) -(HGU1-HGK2) +(HGH2-HGK2)   \n2021-08-05_102  +(HGU1-HGV1) +(HGV1-HGX1) -(HGU1-HGZ1) +(HGX1-...   \n2021-08-05_105             +(HGU1-HGX1) -(HGU1-HGZ1) +(HGX1-HGZ1)   \n2021-08-05_106             +(HGV1-HGX1) -(HGV1-HGZ1) +(HGX1-HGZ1)   \n2021-08-05_107  +(HGZ1-HGF2) +(HGF2-HGG2) -(HGZ1-HGH2) +(HGG2-...   \n2021-08-05_108             +(HGU1-HGV1) -(HGU1-HGZ1) +(HGV1-HGZ1)   \n2021-08-05_109             +(HGU1-HGV1) -(HGU1-HGZ1) +(HGV1-HGZ1)   \n2021-08-05_14   +(HGU1-HGV1) +(HGV1-HGZ1) -(HGU1-HGH2) +(HGZ1-...   \n2021-08-05_32              +(HGU1-HGZ1) -(HGU1-HGH2) +(HGZ1-HGH2)   \n2021-08-05_99   +(HGU1-HGH2) -(HGU1-HGN2) +(HGH2-HGK2) +(HGK2-...   \n\n                entry_ticks  \\\nopp_key                       \n2021-08-01_10           2.0   \n2021-08-01_20           2.0   \n2021-08-01_22           3.0   \n2021-08-01_23           2.0   \n2021-08-01_25           2.0   \n2021-08-01_40           2.0   \n2021-08-01_49           2.0   \n2021-08-01_50           2.0   \n2021-08-02_52           3.0   \n2021-08-02_54           2.0   \n2021-08-04_4           13.0   \n2021-08-04_7            2.0   \n2021-08-05_102          4.0   \n2021-08-05_105          2.0   \n2021-08-05_106          2.0   \n2021-08-05_107          2.0   \n2021-08-05_108          2.0   \n2021-08-05_109          2.0   \n2021-08-05_14           2.0   \n2021-08-05_32           3.0   \n2021-08-05_99           4.0   \n\n                                          same_security_opp_pbook  \\\nopp_key                                                             \n2021-08-01_10   Buy: 10 (2), 5 (1), 0 (1), -5 (1), -470 (1) <-...   \n2021-08-01_20   Buy: 10 (2), 5 (3), -10 (1), -20 (2), -25 (1) ...   \n2021-08-01_22   Buy: 15 (1), 10 (1), 0 (2), -5 (1), -10 (2) <-...   \n2021-08-01_23   Buy: 10 (1), 0 (1), -5 (2), -15 (3), -20 (3) <...   \n2021-08-01_25   Buy: 10 (1), 0 (1), -5 (2), -15 (3), -20 (3) <...   \n2021-08-01_40   Buy: 10 (2), 5 (2), -5 (1), -15 (5), -20 (1) <...   \n2021-08-01_49   Buy: 10 (1), 5 (1), 0 (6), -5 (2), -20 (1) <--...   \n2021-08-01_50   Buy: 10 (1), 5 (1), 0 (6), -5 (4), -115 (1) <-...   \n2021-08-02_52   Buy: -35 (3), -40 (1), -45 (4), -50 (3), -55 (...   \n2021-08-02_54   Buy: -440 (2), -460 (4), -465 (1), -470 (3), -...   \n2021-08-04_4    Buy: -90 (1), -95 (2), -100 (2), -105 (3), -11...   \n2021-08-04_7    Buy: -40 (6), -50 (1), -55 (2), -60 (2), -65 (...   \n2021-08-05_102  Buy: -45 (1), -50 (1), -55 (2), -60 (14), -65 ...   \n2021-08-05_105  Buy: -30 (1), -35 (17), -40 (9), -45 (89), -50...   \n2021-08-05_106  Buy: -35 (1), -40 (1), -50 (2), -55 (2), -60 (...   \n2021-08-05_107                    Buy: 10 (2), -5 (2) <--> Sell:    \n2021-08-05_108  Buy: 10 (2), 5 (1), -5 (1), -15 (1), -20 (2) <...   \n2021-08-05_109  Buy: 10 (2), 5 (1), -5 (1), -15 (1), -20 (2) <...   \n2021-08-05_14   Buy: -55 (2), -75 (1), -80 (1), -90 (1), -95 (...   \n2021-08-05_32                                   Buy:  <--> Sell:    \n2021-08-05_99   Buy: 20 (1), 5 (1), 0 (1), -10 (2), -25 (1) <-...   \n\n                same_security_opp_pbook_zero    lsn_win  \nopp_key                                                  \n2021-08-01_10                            5.0    26737.0  \n2021-08-01_20                            5.0    95059.0  \n2021-08-01_22                            5.0  5782614.0  \n2021-08-01_23                            4.0    42363.0  \n2021-08-01_25                            4.0   536366.0  \n2021-08-01_40                            4.0   121972.0  \n2021-08-01_49                           10.0  1287391.0  \n2021-08-01_50                           12.0  3755676.0  \n2021-08-02_52                           22.0  -364039.0  \n2021-08-02_54                           10.0    49590.0  \n2021-08-04_4                            27.0  1165482.0  \n2021-08-04_7                            26.0    31804.0  \n2021-08-05_102                          25.0    93081.0  \n2021-08-05_105                          61.0    94991.0  \n2021-08-05_106                          23.0 -1402506.0  \n2021-08-05_107                           2.0    63249.0  \n2021-08-05_108                           3.0    31692.0  \n2021-08-05_109                           3.0  -219405.0  \n2021-08-05_14                            3.0 -1205545.0  \n2021-08-05_32                            0.0  -180531.0  \n2021-08-05_99                            5.0    38483.0  "
     },
     "execution_count": 158,
     "metadata": {},
     "output_type": "execute_result"
    }
   ],
   "source": [
    "same_sec[['ht_time','side','poly','entry_ticks','same_security_opp_pbook','same_security_opp_pbook_zero','lsn_win']]"
   ]
  },
  {
   "cell_type": "code",
   "execution_count": 156,
   "metadata": {},
   "outputs": [
    {
     "data": {
      "text/html": "<div>\n<style scoped>\n    .dataframe tbody tr th:only-of-type {\n        vertical-align: middle;\n    }\n\n    .dataframe tbody tr th {\n        vertical-align: top;\n    }\n\n    .dataframe thead th {\n        text-align: right;\n    }\n</style>\n<table border=\"1\" class=\"dataframe\">\n  <thead>\n    <tr style=\"text-align: right;\">\n      <th></th>\n      <th>market_date</th>\n      <th>ht_time</th>\n      <th>side</th>\n      <th>poly</th>\n      <th>entry_ticks</th>\n    </tr>\n    <tr>\n      <th>opp_key</th>\n      <th></th>\n      <th></th>\n      <th></th>\n      <th></th>\n      <th></th>\n    </tr>\n  </thead>\n  <tbody>\n    <tr>\n      <th>2021-08-01_10</th>\n      <td>2021-08-01</td>\n      <td>12:51:44.599999169</td>\n      <td>Sell</td>\n      <td>+(HGU1-HGV1) +(HGV1-HGX1) -(HGU1-HGZ1) +(HGX1-...</td>\n      <td>2.0</td>\n    </tr>\n    <tr>\n      <th>2021-08-01_20</th>\n      <td>2021-08-01</td>\n      <td>15:11:52.778107789</td>\n      <td>Sell</td>\n      <td>+(HGU1-HGV1) -(HGU1-HGZ1) +(HGV1-HGZ1)</td>\n      <td>2.0</td>\n    </tr>\n    <tr>\n      <th>2021-08-01_22</th>\n      <td>2021-08-01</td>\n      <td>15:14:16.636015307</td>\n      <td>Sell</td>\n      <td>+(HGU1-HGV1) +(HGV1-HGX1) -(HGU1-HGZ1) +(HGX1-...</td>\n      <td>3.0</td>\n    </tr>\n    <tr>\n      <th>2021-08-01_23</th>\n      <td>2021-08-01</td>\n      <td>15:14:16.636723819</td>\n      <td>Sell</td>\n      <td>+(HGV1-HGX1) -(HGV1-HGZ1) +(HGX1-HGZ1)</td>\n      <td>2.0</td>\n    </tr>\n    <tr>\n      <th>2021-08-01_25</th>\n      <td>2021-08-01</td>\n      <td>15:14:16.638143249</td>\n      <td>Sell</td>\n      <td>+(HGV1-HGX1) -(HGV1-HGZ1) +(HGX1-HGZ1)</td>\n      <td>2.0</td>\n    </tr>\n    <tr>\n      <th>2021-08-01_40</th>\n      <td>2021-08-01</td>\n      <td>15:17:30.933114395</td>\n      <td>Sell</td>\n      <td>+(HGU1-HGV1) +(HGV1-HGX1) -(HGU1-HGZ1) +(HGX1-...</td>\n      <td>2.0</td>\n    </tr>\n    <tr>\n      <th>2021-08-01_45</th>\n      <td>2021-08-01</td>\n      <td>15:20:30.460556929</td>\n      <td>Sell</td>\n      <td>+(HGU1-HGV1) +(HGV1-HGX1) -(HGU1-HGZ1) +(HGX1-...</td>\n      <td>2.0</td>\n    </tr>\n    <tr>\n      <th>2021-08-01_49</th>\n      <td>2021-08-01</td>\n      <td>15:29:13.111844593</td>\n      <td>Sell</td>\n      <td>+(HGU1-HGV1) +(HGV1-HGX1) -(HGU1-HGZ1) +(HGX1-...</td>\n      <td>2.0</td>\n    </tr>\n    <tr>\n      <th>2021-08-01_50</th>\n      <td>2021-08-01</td>\n      <td>15:31:31.168844257</td>\n      <td>Sell</td>\n      <td>+(HGU1-HGV1) +(HGV1-HGX1) -(HGU1-HGZ1) +(HGX1-...</td>\n      <td>2.0</td>\n    </tr>\n    <tr>\n      <th>2021-08-01_8</th>\n      <td>2021-08-01</td>\n      <td>12:49:13.688946909</td>\n      <td>Sell</td>\n      <td>+(HGU1-HGV1) +(HGV1-HGX1) -(HGU1-HGZ1) +(HGX1-...</td>\n      <td>2.0</td>\n    </tr>\n    <tr>\n      <th>2021-08-02_52</th>\n      <td>2021-08-02</td>\n      <td>16:29:57.890770291</td>\n      <td>Buy</td>\n      <td>+(HGU1-HGH2) -(HGU1-HGK2) +(HGH2-HGK2)</td>\n      <td>3.0</td>\n    </tr>\n    <tr>\n      <th>2021-08-02_54</th>\n      <td>2021-08-02</td>\n      <td>16:50:39.580020029</td>\n      <td>Buy</td>\n      <td>+(HGX1-HGZ1) -(HGX1-HGF2) +(HGZ1-HGF2)</td>\n      <td>2.0</td>\n    </tr>\n    <tr>\n      <th>2021-08-04_4</th>\n      <td>2021-08-04</td>\n      <td>08:44:01.539792901</td>\n      <td>Buy</td>\n      <td>+(HGU1-HGH2) -(HGU1-HGK2) +(HGH2-HGK2)</td>\n      <td>13.0</td>\n    </tr>\n    <tr>\n      <th>2021-08-04_7</th>\n      <td>2021-08-04</td>\n      <td>08:44:06.657358091</td>\n      <td>Buy</td>\n      <td>+(HGU1-HGH2) -(HGU1-HGK2) +(HGH2-HGK2)</td>\n      <td>2.0</td>\n    </tr>\n    <tr>\n      <th>2021-08-05_100</th>\n      <td>2021-08-05</td>\n      <td>16:45:00.011532835</td>\n      <td>Sell</td>\n      <td>+(HGU1-HGV1) -(HGU1-HGZ1) +(HGV1-HGZ1)</td>\n      <td>2.0</td>\n    </tr>\n    <tr>\n      <th>2021-08-05_102</th>\n      <td>2021-08-05</td>\n      <td>16:55:00.020124281</td>\n      <td>Buy</td>\n      <td>+(HGU1-HGV1) +(HGV1-HGX1) -(HGU1-HGZ1) +(HGX1-...</td>\n      <td>4.0</td>\n    </tr>\n    <tr>\n      <th>2021-08-05_105</th>\n      <td>2021-08-05</td>\n      <td>16:55:00.021156017</td>\n      <td>Buy</td>\n      <td>+(HGU1-HGX1) -(HGU1-HGZ1) +(HGX1-HGZ1)</td>\n      <td>2.0</td>\n    </tr>\n    <tr>\n      <th>2021-08-05_106</th>\n      <td>2021-08-05</td>\n      <td>16:55:00.021531181</td>\n      <td>Buy</td>\n      <td>+(HGV1-HGX1) -(HGV1-HGZ1) +(HGX1-HGZ1)</td>\n      <td>2.0</td>\n    </tr>\n    <tr>\n      <th>2021-08-05_107</th>\n      <td>2021-08-05</td>\n      <td>16:55:00.021603143</td>\n      <td>Sell</td>\n      <td>+(HGZ1-HGF2) +(HGF2-HGG2) -(HGZ1-HGH2) +(HGG2-...</td>\n      <td>2.0</td>\n    </tr>\n    <tr>\n      <th>2021-08-05_108</th>\n      <td>2021-08-05</td>\n      <td>16:55:10.452322283</td>\n      <td>Sell</td>\n      <td>+(HGU1-HGV1) -(HGU1-HGZ1) +(HGV1-HGZ1)</td>\n      <td>2.0</td>\n    </tr>\n    <tr>\n      <th>2021-08-05_109</th>\n      <td>2021-08-05</td>\n      <td>16:55:10.452575913</td>\n      <td>Sell</td>\n      <td>+(HGU1-HGV1) -(HGU1-HGZ1) +(HGV1-HGZ1)</td>\n      <td>2.0</td>\n    </tr>\n    <tr>\n      <th>2021-08-05_14</th>\n      <td>2021-08-05</td>\n      <td>11:49:39.687435327</td>\n      <td>Buy</td>\n      <td>+(HGU1-HGV1) +(HGV1-HGZ1) -(HGU1-HGH2) +(HGZ1-...</td>\n      <td>2.0</td>\n    </tr>\n    <tr>\n      <th>2021-08-05_32</th>\n      <td>2021-08-05</td>\n      <td>12:40:06.685871927</td>\n      <td>Buy</td>\n      <td>+(HGU1-HGZ1) -(HGU1-HGH2) +(HGZ1-HGH2)</td>\n      <td>3.0</td>\n    </tr>\n    <tr>\n      <th>2021-08-05_5</th>\n      <td>2021-08-05</td>\n      <td>05:54:34.195317621</td>\n      <td>Buy</td>\n      <td>+(HGU1-HGV1) -(HGU1-HGZ1) +(HGV1-HGZ1)</td>\n      <td>2.0</td>\n    </tr>\n    <tr>\n      <th>2021-08-05_99</th>\n      <td>2021-08-05</td>\n      <td>16:28:14.371346951</td>\n      <td>Sell</td>\n      <td>+(HGU1-HGH2) -(HGU1-HGN2) +(HGH2-HGK2) +(HGK2-...</td>\n      <td>4.0</td>\n    </tr>\n  </tbody>\n</table>\n</div>",
      "text/plain": "               market_date             ht_time  side  \\\nopp_key                                                \n2021-08-01_10   2021-08-01  12:51:44.599999169  Sell   \n2021-08-01_20   2021-08-01  15:11:52.778107789  Sell   \n2021-08-01_22   2021-08-01  15:14:16.636015307  Sell   \n2021-08-01_23   2021-08-01  15:14:16.636723819  Sell   \n2021-08-01_25   2021-08-01  15:14:16.638143249  Sell   \n2021-08-01_40   2021-08-01  15:17:30.933114395  Sell   \n2021-08-01_45   2021-08-01  15:20:30.460556929  Sell   \n2021-08-01_49   2021-08-01  15:29:13.111844593  Sell   \n2021-08-01_50   2021-08-01  15:31:31.168844257  Sell   \n2021-08-01_8    2021-08-01  12:49:13.688946909  Sell   \n2021-08-02_52   2021-08-02  16:29:57.890770291   Buy   \n2021-08-02_54   2021-08-02  16:50:39.580020029   Buy   \n2021-08-04_4    2021-08-04  08:44:01.539792901   Buy   \n2021-08-04_7    2021-08-04  08:44:06.657358091   Buy   \n2021-08-05_100  2021-08-05  16:45:00.011532835  Sell   \n2021-08-05_102  2021-08-05  16:55:00.020124281   Buy   \n2021-08-05_105  2021-08-05  16:55:00.021156017   Buy   \n2021-08-05_106  2021-08-05  16:55:00.021531181   Buy   \n2021-08-05_107  2021-08-05  16:55:00.021603143  Sell   \n2021-08-05_108  2021-08-05  16:55:10.452322283  Sell   \n2021-08-05_109  2021-08-05  16:55:10.452575913  Sell   \n2021-08-05_14   2021-08-05  11:49:39.687435327   Buy   \n2021-08-05_32   2021-08-05  12:40:06.685871927   Buy   \n2021-08-05_5    2021-08-05  05:54:34.195317621   Buy   \n2021-08-05_99   2021-08-05  16:28:14.371346951  Sell   \n\n                                                             poly  entry_ticks  \nopp_key                                                                         \n2021-08-01_10   +(HGU1-HGV1) +(HGV1-HGX1) -(HGU1-HGZ1) +(HGX1-...          2.0  \n2021-08-01_20              +(HGU1-HGV1) -(HGU1-HGZ1) +(HGV1-HGZ1)          2.0  \n2021-08-01_22   +(HGU1-HGV1) +(HGV1-HGX1) -(HGU1-HGZ1) +(HGX1-...          3.0  \n2021-08-01_23              +(HGV1-HGX1) -(HGV1-HGZ1) +(HGX1-HGZ1)          2.0  \n2021-08-01_25              +(HGV1-HGX1) -(HGV1-HGZ1) +(HGX1-HGZ1)          2.0  \n2021-08-01_40   +(HGU1-HGV1) +(HGV1-HGX1) -(HGU1-HGZ1) +(HGX1-...          2.0  \n2021-08-01_45   +(HGU1-HGV1) +(HGV1-HGX1) -(HGU1-HGZ1) +(HGX1-...          2.0  \n2021-08-01_49   +(HGU1-HGV1) +(HGV1-HGX1) -(HGU1-HGZ1) +(HGX1-...          2.0  \n2021-08-01_50   +(HGU1-HGV1) +(HGV1-HGX1) -(HGU1-HGZ1) +(HGX1-...          2.0  \n2021-08-01_8    +(HGU1-HGV1) +(HGV1-HGX1) -(HGU1-HGZ1) +(HGX1-...          2.0  \n2021-08-02_52              +(HGU1-HGH2) -(HGU1-HGK2) +(HGH2-HGK2)          3.0  \n2021-08-02_54              +(HGX1-HGZ1) -(HGX1-HGF2) +(HGZ1-HGF2)          2.0  \n2021-08-04_4               +(HGU1-HGH2) -(HGU1-HGK2) +(HGH2-HGK2)         13.0  \n2021-08-04_7               +(HGU1-HGH2) -(HGU1-HGK2) +(HGH2-HGK2)          2.0  \n2021-08-05_100             +(HGU1-HGV1) -(HGU1-HGZ1) +(HGV1-HGZ1)          2.0  \n2021-08-05_102  +(HGU1-HGV1) +(HGV1-HGX1) -(HGU1-HGZ1) +(HGX1-...          4.0  \n2021-08-05_105             +(HGU1-HGX1) -(HGU1-HGZ1) +(HGX1-HGZ1)          2.0  \n2021-08-05_106             +(HGV1-HGX1) -(HGV1-HGZ1) +(HGX1-HGZ1)          2.0  \n2021-08-05_107  +(HGZ1-HGF2) +(HGF2-HGG2) -(HGZ1-HGH2) +(HGG2-...          2.0  \n2021-08-05_108             +(HGU1-HGV1) -(HGU1-HGZ1) +(HGV1-HGZ1)          2.0  \n2021-08-05_109             +(HGU1-HGV1) -(HGU1-HGZ1) +(HGV1-HGZ1)          2.0  \n2021-08-05_14   +(HGU1-HGV1) +(HGV1-HGZ1) -(HGU1-HGH2) +(HGZ1-...          2.0  \n2021-08-05_32              +(HGU1-HGZ1) -(HGU1-HGH2) +(HGZ1-HGH2)          3.0  \n2021-08-05_5               +(HGU1-HGV1) -(HGU1-HGZ1) +(HGV1-HGZ1)          2.0  \n2021-08-05_99   +(HGU1-HGH2) -(HGU1-HGN2) +(HGH2-HGK2) +(HGK2-...          4.0  "
     },
     "execution_count": 156,
     "metadata": {},
     "output_type": "execute_result"
    }
   ],
   "source": [
    "res_2ticks[['market_date', 'ht_time', 'side','poly','entry_ticks']]"
   ]
  },
  {
   "cell_type": "code",
   "execution_count": null,
   "metadata": {},
   "outputs": [],
   "source": [
    "#res = res[res.entry_ticks < 100]\n",
    "res[res.lsn_win < 55000][['lsn_win','entry_qty','entry_ticks','min_days','max_days','npacks','ntrades','proc_time','fs_adv','fs_adv_ratio','adv_time_per_qty','penalty_poly']].describe()"
   ]
  },
  {
   "cell_type": "code",
   "execution_count": null,
   "metadata": {},
   "outputs": [],
   "source": [
    "# stay longer\n",
    "res[res.lsn_win >= 55000][['lsn_win','entry_qty','entry_ticks','min_days','max_days','npacks','ntrades','proc_time','fs_adv','fs_adv_ratio','adv_time_per_qty','penalty_poly']].describe()"
   ]
  },
  {
   "cell_type": "code",
   "execution_count": null,
   "metadata": {},
   "outputs": [],
   "source": [
    "res[res.lsn_win >= 500000][['lsn_win','entry_qty','entry_ticks','min_days','max_days','npacks','ntrades','proc_time','fs_adv','fs_adv_ratio','adv_time_per_qty','penalty_poly']].describe()"
   ]
  },
  {
   "cell_type": "code",
   "execution_count": null,
   "metadata": {},
   "outputs": [],
   "source": [
    "res[res.penalty_poly <= 1][['lsn_win','entry_qty','entry_ticks','min_days','max_days','npacks','ntrades','proc_time','fs_adv','fs_adv_ratio','adv_time_per_qty','penalty_poly']].describe()"
   ]
  },
  {
   "cell_type": "code",
   "execution_count": null,
   "metadata": {},
   "outputs": [],
   "source": [
    "stickies = res[res.lsn_win >= 500000]\n",
    "stickies[stickies.lsn_win <= 600000]"
   ]
  },
  {
   "cell_type": "code",
   "execution_count": null,
   "metadata": {},
   "outputs": [],
   "source": []
  }
 ],
 "metadata": {
  "kernelspec": {
   "display_name": "Python 3.8.10 64-bit",
   "metadata": {
    "interpreter": {
     "hash": "31f2aee4e71d21fbe5cf8b01ff0e069b9275f58929596ceb00d14d90e3e16cd6"
    }
   },
   "name": "python3"
  },
  "language_info": {
   "codemirror_mode": {
    "name": "ipython",
    "version": 3
   },
   "file_extension": ".py",
   "mimetype": "text/x-python",
   "name": "python",
   "nbconvert_exporter": "python",
   "pygments_lexer": "ipython3",
   "version": "3.8.10"
  },
  "orig_nbformat": 2
 },
 "nbformat": 4,
 "nbformat_minor": 2
}